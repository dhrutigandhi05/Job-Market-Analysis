{
 "cells": [
  {
   "cell_type": "code",
   "execution_count": null,
   "id": "206a3abd-1fc3-4a9f-82a3-6a2e5852442f",
   "metadata": {},
   "outputs": [],
   "source": []
  }
 ],
 "metadata": {
  "kernelspec": {
   "display_name": "",
   "name": ""
  },
  "language_info": {
   "name": ""
  }
 },
 "nbformat": 4,
 "nbformat_minor": 5
}
