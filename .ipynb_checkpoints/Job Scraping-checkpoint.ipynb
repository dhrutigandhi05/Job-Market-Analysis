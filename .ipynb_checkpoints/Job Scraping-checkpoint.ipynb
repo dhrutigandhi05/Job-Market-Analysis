{
 "cells": [
  {
   "cell_type": "code",
   "execution_count": 37,
   "id": "206a3abd-1fc3-4a9f-82a3-6a2e5852442f",
   "metadata": {},
   "outputs": [],
   "source": [
    "import csv #export data\n",
    "from datetime import datetime #get current date\n",
    "import requests #get raw HTML\n",
    "from bs4 import BeautifulSoup #parse the HTML and extract data\n",
    "import httpx"
   ]
  },
  {
   "cell_type": "code",
   "execution_count": 39,
   "id": "374f7bfb-9d2b-4ad9-b630-48bcd04626fb",
   "metadata": {},
   "outputs": [],
   "source": [
    "template = 'https://ca.indeed.com/jobs?q={}&l={}'"
   ]
  },
  {
   "cell_type": "code",
   "execution_count": 41,
   "id": "3bab859b-9f8a-4c24-ab29-d10728cb5a6b",
   "metadata": {},
   "outputs": [],
   "source": [
    "def get_url(position, location):\n",
    "    #create a url from the template url based on a position (q) and location (l)\n",
    "    template = 'https://ca.indeed.com/jobs?q={}&l={}'\n",
    "    url = template.format(position, location)\n",
    "    return url"
   ]
  },
  {
   "cell_type": "code",
   "execution_count": 43,
   "id": "87d4c8ed-1a0d-4524-8450-8fe72c8d89e5",
   "metadata": {},
   "outputs": [],
   "source": [
    "url = get_url('data analyst', 'markham on')"
   ]
  },
  {
   "cell_type": "code",
   "execution_count": 45,
   "id": "4d4b07b5-d190-40e8-a9bb-999a55409cfd",
   "metadata": {},
   "outputs": [
    {
     "data": {
      "text/plain": [
       "<Response [403]>"
      ]
     },
     "execution_count": 45,
     "metadata": {},
     "output_type": "execute_result"
    }
   ],
   "source": [
    "#extract raw html\n",
    "HEADERS = {\n",
    "    'accept': 'text/html,application/xhtml+xml,application/xml;q=0.9,image/webp,image/apng,*/*;q=0.8,application/signed-exchange;v=b3;q=0.9',\n",
    "    'accept-encoding': 'gzip, deflate, br',\n",
    "    'accept-language': 'en-US,en;q=0.9',\n",
    "    'cache-control': 'max-age=0',\n",
    "    'sec-fetch-dest': 'document',\n",
    "    'sec-fetch-mode': 'navigate',\n",
    "    'sec-fetch-site': 'none',\n",
    "    'sec-fetch-user': '?1',\n",
    "    'upgrade-insecure-requests': '1',\n",
    "    'user-agent': 'Mozilla/5.0 (Windows NT 10.0; Win64; x64) AppleWebKit/537.36 (KHTML, like Gecko) Chrome/87.0.4280.67 Safari/537.36 Edg/87.0.664.47'\n",
    "}\n",
    "\n",
    "response = requests.get(url, headers=HEADERS)\n",
    "response"
   ]
  },
  {
   "cell_type": "code",
   "execution_count": 47,
   "id": "dc062a55-c006-438a-b051-c3da3cc0670d",
   "metadata": {},
   "outputs": [
    {
     "data": {
      "text/plain": [
       "'Forbidden'"
      ]
     },
     "execution_count": 47,
     "metadata": {},
     "output_type": "execute_result"
    }
   ],
   "source": [
    "response.reason"
   ]
  },
  {
   "cell_type": "code",
   "execution_count": null,
   "id": "59291afb-2716-44ed-9b93-4a96ec736185",
   "metadata": {},
   "outputs": [],
   "source": []
  }
 ],
 "metadata": {
  "kernelspec": {
   "display_name": "Python [conda env:base] *",
   "language": "python",
   "name": "conda-base-py"
  },
  "language_info": {
   "codemirror_mode": {
    "name": "ipython",
    "version": 3
   },
   "file_extension": ".py",
   "mimetype": "text/x-python",
   "name": "python",
   "nbconvert_exporter": "python",
   "pygments_lexer": "ipython3",
   "version": "3.12.3"
  }
 },
 "nbformat": 4,
 "nbformat_minor": 5
}
