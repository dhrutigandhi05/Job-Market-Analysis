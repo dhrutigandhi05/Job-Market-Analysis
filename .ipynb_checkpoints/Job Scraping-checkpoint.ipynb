{
 "cells": [
  {
   "cell_type": "code",
   "execution_count": 26,
   "id": "206a3abd-1fc3-4a9f-82a3-6a2e5852442f",
   "metadata": {},
   "outputs": [],
   "source": [
    "import csv #export data\n",
    "from datetime import datetime #get current date\n",
    "import requests #get raw HTML\n",
    "from bs4 import BeautifulSoup #parse the HTML and extract data\n",
    "import httpx"
   ]
  },
  {
   "cell_type": "code",
   "execution_count": 28,
   "id": "374f7bfb-9d2b-4ad9-b630-48bcd04626fb",
   "metadata": {},
   "outputs": [],
   "source": [
    "template = 'https://ca.indeed.com/jobs?q={}&l={}'"
   ]
  },
  {
   "cell_type": "code",
   "execution_count": 30,
   "id": "3bab859b-9f8a-4c24-ab29-d10728cb5a6b",
   "metadata": {},
   "outputs": [],
   "source": [
    "def get_url(position, location):\n",
    "    #create a url from the template url based on a position (q) and location (l)\n",
    "    template = 'https://ca.indeed.com/jobs?q={}&l={}'\n",
    "    url = template.format(position, location)\n",
    "    return url"
   ]
  },
  {
   "cell_type": "code",
   "execution_count": 32,
   "id": "87d4c8ed-1a0d-4524-8450-8fe72c8d89e5",
   "metadata": {},
   "outputs": [],
   "source": [
    "url = get_url('data analyst', 'markham on')"
   ]
  },
  {
   "cell_type": "code",
   "execution_count": 38,
   "id": "4d4b07b5-d190-40e8-a9bb-999a55409cfd",
   "metadata": {},
   "outputs": [
    {
     "ename": "ImportError",
     "evalue": "Using http2=True, but the 'h2' package is not installed. Make sure to install httpx using `pip install httpx[http2]`.",
     "output_type": "error",
     "traceback": [
      "\u001b[1;31m---------------------------------------------------------------------------\u001b[0m",
      "\u001b[1;31mImportError\u001b[0m                               Traceback (most recent call last)",
      "Cell \u001b[1;32mIn[38], line 12\u001b[0m\n\u001b[0;32m      2\u001b[0m headers \u001b[38;5;241m=\u001b[39m {\n\u001b[0;32m      3\u001b[0m     \u001b[38;5;124m\"\u001b[39m\u001b[38;5;124mUser-Agent\u001b[39m\u001b[38;5;124m\"\u001b[39m: \u001b[38;5;124m\"\u001b[39m\u001b[38;5;124mMozilla/5.0 (Windows NT 10.0; Win64; x64) AppleWebKit/537.36 (KHTML, like Gecko) Chrome/115.0 Safari/537.36\u001b[39m\u001b[38;5;124m\"\u001b[39m,\n\u001b[0;32m      4\u001b[0m     \u001b[38;5;124m\"\u001b[39m\u001b[38;5;124mAccept-Language\u001b[39m\u001b[38;5;124m\"\u001b[39m: \u001b[38;5;124m\"\u001b[39m\u001b[38;5;124men-CA,en;q=0.9,en-US;q=0.8\u001b[39m\u001b[38;5;124m\"\u001b[39m,\n\u001b[1;32m   (...)\u001b[0m\n\u001b[0;32m      7\u001b[0m     \u001b[38;5;124m\"\u001b[39m\u001b[38;5;124mConnection\u001b[39m\u001b[38;5;124m\"\u001b[39m: \u001b[38;5;124m\"\u001b[39m\u001b[38;5;124mkeep-alive\u001b[39m\u001b[38;5;124m\"\u001b[39m\n\u001b[0;32m      8\u001b[0m }\n\u001b[0;32m     10\u001b[0m \u001b[38;5;66;03m# response = requests.get(url, headers=headers)\u001b[39;00m\n\u001b[0;32m     11\u001b[0m \u001b[38;5;66;03m# response\u001b[39;00m\n\u001b[1;32m---> 12\u001b[0m client \u001b[38;5;241m=\u001b[39m httpx\u001b[38;5;241m.\u001b[39mClient(http2\u001b[38;5;241m=\u001b[39m\u001b[38;5;28;01mTrue\u001b[39;00m, headers\u001b[38;5;241m=\u001b[39mheaders)\n\u001b[0;32m     13\u001b[0m resp \u001b[38;5;241m=\u001b[39m client\u001b[38;5;241m.\u001b[39mget(url)\n\u001b[0;32m     14\u001b[0m \u001b[38;5;28mprint\u001b[39m(resp\u001b[38;5;241m.\u001b[39mstatus_code, resp\u001b[38;5;241m.\u001b[39mtext[:\u001b[38;5;241m200\u001b[39m])\n",
      "File \u001b[1;32m~\\anaconda3\\Lib\\site-packages\\httpx\\_client.py:661\u001b[0m, in \u001b[0;36mClient.__init__\u001b[1;34m(self, auth, params, headers, cookies, verify, cert, http1, http2, proxy, proxies, mounts, timeout, follow_redirects, limits, max_redirects, event_hooks, base_url, transport, app, trust_env, default_encoding)\u001b[0m\n\u001b[0;32m    659\u001b[0m         \u001b[38;5;28;01mimport\u001b[39;00m \u001b[38;5;21;01mh2\u001b[39;00m  \u001b[38;5;66;03m# noqa\u001b[39;00m\n\u001b[0;32m    660\u001b[0m     \u001b[38;5;28;01mexcept\u001b[39;00m \u001b[38;5;167;01mImportError\u001b[39;00m:  \u001b[38;5;66;03m# pragma: no cover\u001b[39;00m\n\u001b[1;32m--> 661\u001b[0m         \u001b[38;5;28;01mraise\u001b[39;00m \u001b[38;5;167;01mImportError\u001b[39;00m(\n\u001b[0;32m    662\u001b[0m             \u001b[38;5;124m\"\u001b[39m\u001b[38;5;124mUsing http2=True, but the \u001b[39m\u001b[38;5;124m'\u001b[39m\u001b[38;5;124mh2\u001b[39m\u001b[38;5;124m'\u001b[39m\u001b[38;5;124m package is not installed. \u001b[39m\u001b[38;5;124m\"\u001b[39m\n\u001b[0;32m    663\u001b[0m             \u001b[38;5;124m\"\u001b[39m\u001b[38;5;124mMake sure to install httpx using `pip install httpx[http2]`.\u001b[39m\u001b[38;5;124m\"\u001b[39m\n\u001b[0;32m    664\u001b[0m         ) \u001b[38;5;28;01mfrom\u001b[39;00m \u001b[38;5;28;01mNone\u001b[39;00m\n\u001b[0;32m    666\u001b[0m \u001b[38;5;28;01mif\u001b[39;00m proxies:\n\u001b[0;32m    667\u001b[0m     message \u001b[38;5;241m=\u001b[39m (\n\u001b[0;32m    668\u001b[0m         \u001b[38;5;124m\"\u001b[39m\u001b[38;5;124mThe \u001b[39m\u001b[38;5;124m'\u001b[39m\u001b[38;5;124mproxies\u001b[39m\u001b[38;5;124m'\u001b[39m\u001b[38;5;124m argument is now deprecated.\u001b[39m\u001b[38;5;124m\"\u001b[39m\n\u001b[0;32m    669\u001b[0m         \u001b[38;5;124m\"\u001b[39m\u001b[38;5;124m Use \u001b[39m\u001b[38;5;124m'\u001b[39m\u001b[38;5;124mproxy\u001b[39m\u001b[38;5;124m'\u001b[39m\u001b[38;5;124m or \u001b[39m\u001b[38;5;124m'\u001b[39m\u001b[38;5;124mmounts\u001b[39m\u001b[38;5;124m'\u001b[39m\u001b[38;5;124m instead.\u001b[39m\u001b[38;5;124m\"\u001b[39m\n\u001b[0;32m    670\u001b[0m     )\n",
      "\u001b[1;31mImportError\u001b[0m: Using http2=True, but the 'h2' package is not installed. Make sure to install httpx using `pip install httpx[http2]`."
     ]
    }
   ],
   "source": [
    "#extract raw html\n",
    "headers = {\n",
    "    \"User-Agent\": \"Mozilla/5.0 (Windows NT 10.0; Win64; x64) AppleWebKit/537.36 (KHTML, like Gecko) Chrome/115.0 Safari/537.36\",\n",
    "    \"Accept-Language\": \"en-CA,en;q=0.9,en-US;q=0.8\",\n",
    "    \"Accept-Encoding\": \"gzip, deflate, br\",\n",
    "    \"Referer\": \"https://www.google.com\",\n",
    "    \"Connection\": \"keep-alive\"\n",
    "}\n",
    "\n",
    "# response = requests.get(url, headers=headers)\n",
    "# response\n",
    "client = httpx.Client(http2=True, headers=headers)\n",
    "resp = client.get(url)\n",
    "print(resp.status_code, resp.text[:200])"
   ]
  },
  {
   "cell_type": "code",
   "execution_count": 36,
   "id": "dc062a55-c006-438a-b051-c3da3cc0670d",
   "metadata": {},
   "outputs": [
    {
     "data": {
      "text/plain": [
       "'Forbidden'"
      ]
     },
     "execution_count": 36,
     "metadata": {},
     "output_type": "execute_result"
    }
   ],
   "source": [
    "response.reason"
   ]
  },
  {
   "cell_type": "code",
   "execution_count": null,
   "id": "b319a754-c2be-44fc-bdd7-11dbef9fba29",
   "metadata": {},
   "outputs": [],
   "source": []
  }
 ],
 "metadata": {
  "kernelspec": {
   "display_name": "Python [conda env:base] *",
   "language": "python",
   "name": "conda-base-py"
  },
  "language_info": {
   "codemirror_mode": {
    "name": "ipython",
    "version": 3
   },
   "file_extension": ".py",
   "mimetype": "text/x-python",
   "name": "python",
   "nbconvert_exporter": "python",
   "pygments_lexer": "ipython3",
   "version": "3.12.3"
  }
 },
 "nbformat": 4,
 "nbformat_minor": 5
}
