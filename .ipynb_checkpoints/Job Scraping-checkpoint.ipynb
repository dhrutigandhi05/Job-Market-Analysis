{
 "cells": [
  {
   "cell_type": "code",
   "execution_count": 1,
   "id": "206a3abd-1fc3-4a9f-82a3-6a2e5852442f",
   "metadata": {},
   "outputs": [],
   "source": [
    "import csv #export data\n",
    "from datetime import datetime #get current date\n",
    "import requests #get raw HTML\n",
    "from bs4 import BeautifulSoup #parse the HTML and extract data"
   ]
  },
  {
   "cell_type": "code",
   "execution_count": null,
   "id": "374f7bfb-9d2b-4ad9-b630-48bcd04626fb",
   "metadata": {},
   "outputs": [],
   "source": []
  }
 ],
 "metadata": {
  "kernelspec": {
   "display_name": "Python [conda env:base] *",
   "language": "python",
   "name": "conda-base-py"
  },
  "language_info": {
   "codemirror_mode": {
    "name": "ipython",
    "version": 3
   },
   "file_extension": ".py",
   "mimetype": "text/x-python",
   "name": "python",
   "nbconvert_exporter": "python",
   "pygments_lexer": "ipython3",
   "version": "3.12.3"
  }
 },
 "nbformat": 4,
 "nbformat_minor": 5
}
